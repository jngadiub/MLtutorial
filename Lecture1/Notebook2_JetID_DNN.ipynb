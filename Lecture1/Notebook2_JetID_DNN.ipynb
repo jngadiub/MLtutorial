{
  "cells": [
    {
      "cell_type": "markdown",
      "metadata": {
        "id": "Rf258xT0XIwV"
      },
      "source": [
        "# Training a Jet Tagging with **CNN** \n",
        "\n",
        "---\n",
        "In this notebook, we perform a Jet identification task using a multiclass classifier based on a \n",
        "Dense Neural Network (DNN). The problem consists on identifying a given jet as a quark, a gluon, a W, a Z, or a top,\n",
        "based on set of physics-motivated high-level features.\n",
        "\n",
        "For details on the physics problem, see https://arxiv.org/pdf/1804.06913.pdf \n",
        "\n",
        "For details on the dataset, see Notebook1\n",
        "\n",
        "---"
      ]
    },
    {
      "cell_type": "code",
      "execution_count": 1,
      "metadata": {
        "id": "4OMAZgtyXIwY"
      },
      "outputs": [],
      "source": [
        "import os\n",
        "import h5py\n",
        "import glob\n",
        "import numpy as np\n",
        "import matplotlib.pyplot as plt"
      ]
    },
    {
      "cell_type": "code",
      "execution_count": 2,
      "metadata": {
        "id": "AN8iX8EYXIwa"
      },
      "outputs": [],
      "source": [
        "%matplotlib inline"
      ]
    },
    {
      "cell_type": "markdown",
      "metadata": {
        "id": "2lbB-J3hXIwb"
      },
      "source": [
        "# Preparation of the training and validation samples\n",
        "\n",
        "---\n",
        "In order to import the dataset, we now\n",
        "- clone the dataset repository (to import the data in Colab)\n",
        "- load the h5 files in the data/ repository\n",
        "- extract the data we need: a target and jetImage \n",
        "\n",
        "To type shell commands, we start the command line with !"
      ]
    },
    {
      "cell_type": "code",
      "execution_count": 3,
      "metadata": {
        "id": "jWjxFaRPXIwb",
        "outputId": "491a1150-4776-4c67-a504-ac256596aa3c",
        "colab": {
          "base_uri": "https://localhost:8080/"
        }
      },
      "outputs": [
        {
          "output_type": "stream",
          "name": "stdout",
          "text": [
            "  % Total    % Received % Xferd  Average Speed   Time    Time     Time  Current\n",
            "                                 Dload  Upload   Total   Spent    Left  Speed\n",
            "100  333M  100  333M    0     0  17.3M      0  0:00:19  0:00:19 --:--:-- 25.4M\n",
            "Data-MLtutorial/\n",
            "Data-MLtutorial/JetDataset/\n",
            "Data-MLtutorial/JetDataset/jetImage_7_100p_0_10000.h5\n",
            "Data-MLtutorial/JetDataset/jetImage_7_100p_10000_20000.h5\n",
            "Data-MLtutorial/JetDataset/jetImage_7_100p_30000_40000.h5\n",
            "Data-MLtutorial/JetDataset/jetImage_7_100p_40000_50000.h5\n",
            "Data-MLtutorial/JetDataset/jetImage_7_100p_50000_60000.h5\n",
            "Data-MLtutorial/JetDataset/jetImage_7_100p_60000_70000.h5\n",
            "Data-MLtutorial/JetDataset/jetImage_7_100p_70000_80000.h5\n",
            "Data-MLtutorial/JetDataset/jetImage_7_100p_80000_90000.h5\n",
            "jetImage_7_100p_0_10000.h5\tjetImage_7_100p_50000_60000.h5\n",
            "jetImage_7_100p_10000_20000.h5\tjetImage_7_100p_60000_70000.h5\n",
            "jetImage_7_100p_30000_40000.h5\tjetImage_7_100p_70000_80000.h5\n",
            "jetImage_7_100p_40000_50000.h5\tjetImage_7_100p_80000_90000.h5\n"
          ]
        }
      ],
      "source": [
        "! curl https://cernbox.cern.ch/index.php/s/xmTytsMPvCEA6Ar/download -o Data-MLtutorial.tar.gz\n",
        "! tar -xvzf Data-MLtutorial.tar.gz \n",
        "! ls Data-MLtutorial/JetDataset/\n",
        "! rm Data-MLtutorial.tar.gz "
      ]
    },
    {
      "cell_type": "code",
      "execution_count": 5,
      "metadata": {
        "id": "cCGhrKdwXIwc",
        "outputId": "4905ef3c-5fcf-446a-a87e-e839b3ebe900",
        "colab": {
          "base_uri": "https://localhost:8080/"
        }
      },
      "outputs": [
        {
          "output_type": "stream",
          "name": "stdout",
          "text": [
            "Appending Data-MLtutorial/JetDataset/jetImage_7_100p_30000_40000.h5\n",
            "Appending Data-MLtutorial/JetDataset/jetImage_7_100p_60000_70000.h5\n",
            "Appending Data-MLtutorial/JetDataset/jetImage_7_100p_50000_60000.h5\n",
            "Appending Data-MLtutorial/JetDataset/jetImage_7_100p_10000_20000.h5\n",
            "Appending Data-MLtutorial/JetDataset/jetImage_7_100p_0_10000.h5\n",
            "(50000, 5) (50000, 16)\n"
          ]
        }
      ],
      "source": [
        "target = np.array([])\n",
        "features = np.array([])\n",
        "# we cannot load all data on Colab. So we just take a few files\n",
        "datafiles = ['Data-MLtutorial/JetDataset/jetImage_7_100p_30000_40000.h5',\n",
        "           'Data-MLtutorial/JetDataset/jetImage_7_100p_60000_70000.h5',\n",
        "            'Data-MLtutorial/JetDataset/jetImage_7_100p_50000_60000.h5',\n",
        "            'Data-MLtutorial/JetDataset/jetImage_7_100p_10000_20000.h5',\n",
        "            'Data-MLtutorial/JetDataset/jetImage_7_100p_0_10000.h5']\n",
        "# if you are running locallt, you can use the full dataset doing\n",
        "# for fileIN in glob.glob(\"tutorials/HiggsSchool/data/*h5\"):\n",
        "for fileIN in datafiles:\n",
        "    print(\"Appending %s\" %fileIN)\n",
        "    f = h5py.File(fileIN)\n",
        "    myFeatures = np.array(f.get(\"jets\")[:,[12, 34, 35, 36, 37, 38, 39, 40, 41, 42, 43, 44, 45, 46, 48, 52]])\n",
        "    mytarget = np.array(f.get('jets')[0:,-6:-1])\n",
        "    features = np.concatenate([features, myFeatures], axis=0) if features.size else myFeatures\n",
        "    target = np.concatenate([target, mytarget], axis=0) if target.size else mytarget\n",
        "    f.close()\n",
        "print(target.shape, features.shape)"
      ]
    },
    {
      "cell_type": "markdown",
      "metadata": {
        "id": "6a333RYPXIwe"
      },
      "source": [
        "The dataset consists of 50000 jets, each represented by 16 features\n",
        "\n",
        "---\n",
        "\n",
        "We now shuffle the data, splitting them into a training and a validation dataset with 2:1 ratio"
      ]
    },
    {
      "cell_type": "code",
      "execution_count": 6,
      "metadata": {
        "id": "ZBqFs1eBXIwf",
        "outputId": "25859730-4df5-4a9d-96f8-96271108b978",
        "colab": {
          "base_uri": "https://localhost:8080/"
        }
      },
      "outputs": [
        {
          "output_type": "stream",
          "name": "stdout",
          "text": [
            "(33500, 16) (16500, 16) (33500, 5) (16500, 5)\n"
          ]
        }
      ],
      "source": [
        "from sklearn.model_selection import train_test_split\n",
        "X_train, X_val, y_train, y_val = train_test_split(features, target, test_size=0.33)\n",
        "print(X_train.shape, X_val.shape, y_train.shape, y_val.shape)\n",
        "del features, target"
      ]
    },
    {
      "cell_type": "markdown",
      "metadata": {
        "id": "GkNz5UAhXIwg"
      },
      "source": [
        "# DNN model building"
      ]
    },
    {
      "cell_type": "code",
      "execution_count": 7,
      "metadata": {
        "id": "tTSDOiEHXIwh"
      },
      "outputs": [],
      "source": [
        "# keras imports\n",
        "from tensorflow.keras.models import Model\n",
        "from tensorflow.keras.layers import Dense, Input, Dropout, Flatten, Activation\n",
        "from tensorflow.keras.utils import plot_model\n",
        "from tensorflow.keras import backend as K\n",
        "from tensorflow.keras import metrics\n",
        "from tensorflow.keras.callbacks import EarlyStopping, ReduceLROnPlateau, TerminateOnNaN"
      ]
    },
    {
      "cell_type": "code",
      "execution_count": 8,
      "metadata": {
        "id": "rAl0DZTxXIwi"
      },
      "outputs": [],
      "source": [
        "input_shape = X_train.shape[1]\n",
        "dropoutRate = 0.25"
      ]
    },
    {
      "cell_type": "code",
      "execution_count": 9,
      "metadata": {
        "id": "2l492G8BXIwj"
      },
      "outputs": [],
      "source": [
        "####\n",
        "inputArray = Input(shape=(input_shape,))\n",
        "#\n",
        "x = Dense(40, activation='relu')(inputArray)\n",
        "x = Dropout(dropoutRate)(x)\n",
        "#\n",
        "x = Dense(20)(x)\n",
        "x = Activation('relu')(x)\n",
        "x = Dropout(dropoutRate)(x)\n",
        "#\n",
        "x = Dense(10, activation='relu')(x)\n",
        "x = Dropout(dropoutRate)(x)\n",
        "#\n",
        "x = Dense(5, activation='relu')(x)\n",
        "#\n",
        "output = Dense(5, activation='softmax')(x)\n",
        "####\n",
        "model = Model(inputs=inputArray, outputs=output)"
      ]
    },
    {
      "cell_type": "code",
      "execution_count": 10,
      "metadata": {
        "id": "xu8rRUkhXIwj",
        "outputId": "1d47e54e-da8d-40a7-92a3-18e1e2fd8900",
        "colab": {
          "base_uri": "https://localhost:8080/"
        }
      },
      "outputs": [
        {
          "output_type": "stream",
          "name": "stdout",
          "text": [
            "Model: \"model\"\n",
            "_________________________________________________________________\n",
            " Layer (type)                Output Shape              Param #   \n",
            "=================================================================\n",
            " input_1 (InputLayer)        [(None, 16)]              0         \n",
            "                                                                 \n",
            " dense (Dense)               (None, 40)                680       \n",
            "                                                                 \n",
            " dropout (Dropout)           (None, 40)                0         \n",
            "                                                                 \n",
            " dense_1 (Dense)             (None, 20)                820       \n",
            "                                                                 \n",
            " activation (Activation)     (None, 20)                0         \n",
            "                                                                 \n",
            " dropout_1 (Dropout)         (None, 20)                0         \n",
            "                                                                 \n",
            " dense_2 (Dense)             (None, 10)                210       \n",
            "                                                                 \n",
            " dropout_2 (Dropout)         (None, 10)                0         \n",
            "                                                                 \n",
            " dense_3 (Dense)             (None, 5)                 55        \n",
            "                                                                 \n",
            " dense_4 (Dense)             (None, 5)                 30        \n",
            "                                                                 \n",
            "=================================================================\n",
            "Total params: 1,795\n",
            "Trainable params: 1,795\n",
            "Non-trainable params: 0\n",
            "_________________________________________________________________\n"
          ]
        }
      ],
      "source": [
        "model.compile(loss='categorical_crossentropy', optimizer='adam')\n",
        "model.summary()"
      ]
    },
    {
      "cell_type": "markdown",
      "metadata": {
        "id": "2HfKWoOtXIwk"
      },
      "source": [
        "We now train the model"
      ]
    },
    {
      "cell_type": "code",
      "execution_count": 11,
      "metadata": {
        "id": "aj1WtGUHXIwk"
      },
      "outputs": [],
      "source": [
        "batch_size = 128\n",
        "n_epochs = 50"
      ]
    },
    {
      "cell_type": "code",
      "execution_count": 12,
      "metadata": {
        "id": "KzO-lyLEXIwk",
        "outputId": "0a00d413-8a3c-43fd-b5f7-e2d144ba2ed6",
        "colab": {
          "base_uri": "https://localhost:8080/"
        }
      },
      "outputs": [
        {
          "output_type": "stream",
          "name": "stdout",
          "text": [
            "Epoch 1/50\n",
            "262/262 - 3s - loss: 2.0046 - val_loss: 1.6109 - lr: 0.0010 - 3s/epoch - 11ms/step\n",
            "Epoch 2/50\n",
            "262/262 - 2s - loss: 1.6298 - val_loss: 1.6099 - lr: 0.0010 - 2s/epoch - 6ms/step\n",
            "Epoch 3/50\n",
            "262/262 - 2s - loss: 1.6156 - val_loss: 1.6095 - lr: 0.0010 - 2s/epoch - 7ms/step\n",
            "Epoch 4/50\n",
            "262/262 - 1s - loss: 1.6113 - val_loss: 1.6095 - lr: 0.0010 - 1s/epoch - 5ms/step\n",
            "Epoch 5/50\n",
            "\n",
            "Epoch 5: ReduceLROnPlateau reducing learning rate to 0.00010000000474974513.\n",
            "262/262 - 1s - loss: 1.6077 - val_loss: 1.6096 - lr: 0.0010 - 687ms/epoch - 3ms/step\n",
            "Epoch 6/50\n",
            "262/262 - 1s - loss: 1.6045 - val_loss: 1.6096 - lr: 1.0000e-04 - 868ms/epoch - 3ms/step\n",
            "Epoch 7/50\n",
            "\n",
            "Epoch 7: ReduceLROnPlateau reducing learning rate to 1.0000000474974514e-05.\n",
            "262/262 - 1s - loss: 1.6041 - val_loss: 1.6097 - lr: 1.0000e-04 - 742ms/epoch - 3ms/step\n",
            "Epoch 8/50\n",
            "262/262 - 1s - loss: 1.6025 - val_loss: 1.6097 - lr: 1.0000e-05 - 865ms/epoch - 3ms/step\n",
            "Epoch 9/50\n",
            "\n",
            "Epoch 9: ReduceLROnPlateau reducing learning rate to 1.0000000656873453e-06.\n",
            "262/262 - 1s - loss: 1.6027 - val_loss: 1.6097 - lr: 1.0000e-05 - 826ms/epoch - 3ms/step\n",
            "Epoch 10/50\n",
            "262/262 - 1s - loss: 1.6047 - val_loss: 1.6097 - lr: 1.0000e-06 - 653ms/epoch - 2ms/step\n",
            "Epoch 11/50\n",
            "\n",
            "Epoch 11: ReduceLROnPlateau reducing learning rate to 1.0000001111620805e-07.\n",
            "262/262 - 1s - loss: 1.6027 - val_loss: 1.6097 - lr: 1.0000e-06 - 709ms/epoch - 3ms/step\n",
            "Epoch 12/50\n",
            "262/262 - 1s - loss: 1.6016 - val_loss: 1.6097 - lr: 1.0000e-07 - 685ms/epoch - 3ms/step\n",
            "Epoch 13/50\n",
            "\n",
            "Epoch 13: ReduceLROnPlateau reducing learning rate to 1.000000082740371e-08.\n",
            "262/262 - 1s - loss: 1.6006 - val_loss: 1.6097 - lr: 1.0000e-07 - 853ms/epoch - 3ms/step\n",
            "Epoch 14/50\n",
            "262/262 - 1s - loss: 1.6033 - val_loss: 1.6097 - lr: 1.0000e-08 - 831ms/epoch - 3ms/step\n",
            "Epoch 14: early stopping\n"
          ]
        }
      ],
      "source": [
        "# train \n",
        "history = model.fit(X_train, y_train, epochs=n_epochs, batch_size=batch_size, verbose = 2,\n",
        "                validation_data=(X_val, y_val),\n",
        "                callbacks = [\n",
        "                EarlyStopping(monitor='val_loss', patience=10, verbose=1),\n",
        "                ReduceLROnPlateau(monitor='val_loss', factor=0.1, patience=2, verbose=1),\n",
        "                TerminateOnNaN()])"
      ]
    },
    {
      "cell_type": "code",
      "execution_count": 13,
      "metadata": {
        "id": "044bCLqVXIwl",
        "outputId": "64a60e48-7f34-48f4-f1b2-f75a8e8e5f28",
        "colab": {
          "base_uri": "https://localhost:8080/",
          "height": 295
        }
      },
      "outputs": [
        {
          "output_type": "display_data",
          "data": {
            "text/plain": [
              "<Figure size 432x288 with 1 Axes>"
            ],
            "image/png": "[encoded data removed]"
          },
          "metadata": {
            "needs_background": "light"
          }
        }
      ],
      "source": [
        "# plot training history\n",
        "plt.plot(history.history['loss'])\n",
        "plt.plot(history.history['val_loss'])\n",
        "plt.yscale('log')\n",
        "plt.title('Training History')\n",
        "plt.ylabel('loss')\n",
        "plt.xlabel('epoch')\n",
        "plt.legend(['training', 'validation'], loc='upper right')\n",
        "plt.show()"
      ]
    },
    {
      "cell_type": "markdown",
      "metadata": {
        "id": "GmayOrwTXIwm"
      },
      "source": [
        "To save on disk the best model and training results:\n",
        "\n",
        "model_json = model.to_json()\n",
        "\n",
        "with open(\"tutorials/HiggsSchool/models/jetTagger_DNN.json\", \"w\") as json_file:\n",
        "\n",
        "    json_file.write(model_json)\n",
        "    \n",
        "model.save_weights(\"tutorials/HiggsSchool/models/jetTagger_DNN.h5\")"
      ]
    },
    {
      "cell_type": "markdown",
      "metadata": {
        "id": "oESSmNLxXIwm"
      },
      "source": [
        "# Building the ROC Curves"
      ]
    },
    {
      "cell_type": "code",
      "execution_count": 14,
      "metadata": {
        "id": "a_AROD6SXIwm"
      },
      "outputs": [],
      "source": [
        "labels = ['gluon', 'quark', 'W', 'Z', 'top']"
      ]
    },
    {
      "cell_type": "code",
      "execution_count": 15,
      "metadata": {
        "id": "gjKT7EjUXIwn",
        "outputId": "0420c143-32bf-4f6b-d1f7-9e86f4275cce",
        "colab": {
          "base_uri": "https://localhost:8080/",
          "height": 285
        }
      },
      "outputs": [
        {
          "output_type": "display_data",
          "data": {
            "text/plain": [
              "<Figure size 432x288 with 1 Axes>"
            ],
            "image/png": "[encoded data removed]"
          },
          "metadata": {
            "needs_background": "light"
          }
        }
      ],
      "source": [
        "import pandas as pd\n",
        "from sklearn.metrics import roc_curve, auc\n",
        "predict_val = model.predict(X_val)\n",
        "df = pd.DataFrame()\n",
        "fpr = {}\n",
        "tpr = {}\n",
        "auc1 = {}\n",
        "\n",
        "plt.figure()\n",
        "for i, label in enumerate(labels):\n",
        "        df[label] = y_val[:,i]\n",
        "        df[label + '_pred'] = predict_val[:,i]\n",
        "\n",
        "        fpr[label], tpr[label], threshold = roc_curve(df[label],df[label+'_pred'])\n",
        "\n",
        "        auc1[label] = auc(fpr[label], tpr[label])\n",
        "\n",
        "        plt.plot(tpr[label],fpr[label],label='%s tagger, auc = %.1f%%'%(label,auc1[label]*100.))\n",
        "plt.semilogy()\n",
        "plt.xlabel(\"sig. efficiency\")\n",
        "plt.ylabel(\"bkg. mistag rate\")\n",
        "plt.ylim(0.000001,1)\n",
        "plt.grid(True)\n",
        "plt.legend(loc='lower right')\n",
        "plt.show()"
      ]
    }
  ],
  "metadata": {
    "kernelspec": {
      "display_name": "Python 3",
      "language": "python",
      "name": "python3"
    },
    "language_info": {
      "codemirror_mode": {
        "name": "ipython",
        "version": 3
      },
      "file_extension": ".py",
      "mimetype": "text/x-python",
      "name": "python",
      "nbconvert_exporter": "python",
      "pygments_lexer": "ipython3",
      "version": "3.7.3"
    },
    "colab": {
      "name": "Notebook2_JetID_DNN.ipynb",
      "provenance": []
    }
  },
  "nbformat": 4,
  "nbformat_minor": 0
}